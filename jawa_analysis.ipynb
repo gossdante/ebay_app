{
 "cells": [
  {
   "cell_type": "markdown",
   "metadata": {},
   "source": [
    "## Data Analysis\n"
   ]
  },
  {
   "cell_type": "code",
   "execution_count": 73,
   "metadata": {},
   "outputs": [],
   "source": [
    "import pandas as pd\n",
    "import numpy as np\n",
    "import sqlite3\n",
    "import matplotlib.pyplot as plt"
   ]
  },
  {
   "cell_type": "markdown",
   "metadata": {},
   "source": [
    "Load SQL Database"
   ]
  },
  {
   "cell_type": "code",
   "execution_count": 74,
   "metadata": {},
   "outputs": [],
   "source": [
    "con = sqlite3.connect(\"jawa.db\")\n",
    "cur = con.cursor()"
   ]
  },
  {
   "cell_type": "markdown",
   "metadata": {},
   "source": [
    "Read in data from sqlite database."
   ]
  },
  {
   "cell_type": "code",
   "execution_count": 75,
   "metadata": {},
   "outputs": [
    {
     "data": {
      "text/html": [
       "<div>\n",
       "<style scoped>\n",
       "    .dataframe tbody tr th:only-of-type {\n",
       "        vertical-align: middle;\n",
       "    }\n",
       "\n",
       "    .dataframe tbody tr th {\n",
       "        vertical-align: top;\n",
       "    }\n",
       "\n",
       "    .dataframe thead th {\n",
       "        text-align: right;\n",
       "    }\n",
       "</style>\n",
       "<table border=\"1\" class=\"dataframe\">\n",
       "  <thead>\n",
       "    <tr style=\"text-align: right;\">\n",
       "      <th></th>\n",
       "      <th>Name</th>\n",
       "      <th>Description</th>\n",
       "      <th>Created at</th>\n",
       "      <th>Original Price</th>\n",
       "      <th>Final Price</th>\n",
       "      <th>CPU Brand</th>\n",
       "      <th>CPU Series</th>\n",
       "      <th>CPU Model</th>\n",
       "      <th>CPU Socket</th>\n",
       "      <th>CPU Core count</th>\n",
       "      <th>...</th>\n",
       "      <th>Internal Storage Capacity</th>\n",
       "      <th>Internal Storage Interface</th>\n",
       "      <th>Case Brand</th>\n",
       "      <th>Case Color</th>\n",
       "      <th>Power Supply Wattage</th>\n",
       "      <th>Motherboard Brand</th>\n",
       "      <th>Motherboard Socket</th>\n",
       "      <th>CPU Cooler Type</th>\n",
       "      <th>CPU Cooler Socket</th>\n",
       "      <th>Link</th>\n",
       "    </tr>\n",
       "  </thead>\n",
       "  <tbody>\n",
       "    <tr>\n",
       "      <th>0</th>\n",
       "      <td>🎋🌸⚔️👺☁️Nezuko||Gaming PC-AMD RX 7800 XT 16GB❄️...</td>\n",
       "      <td>Brand New Custom Built High Performance Gaming...</td>\n",
       "      <td>2024-01-04T01:15:15.763Z</td>\n",
       "      <td>1899.0</td>\n",
       "      <td>1899.0</td>\n",
       "      <td>AMD</td>\n",
       "      <td>Ryzen 5</td>\n",
       "      <td>Ryzen 5 7600</td>\n",
       "      <td>AM5</td>\n",
       "      <td>6 cores</td>\n",
       "      <td>...</td>\n",
       "      <td>1TB</td>\n",
       "      <td>NVME SSD</td>\n",
       "      <td>Lian Li</td>\n",
       "      <td>White</td>\n",
       "      <td>750W</td>\n",
       "      <td>AMD</td>\n",
       "      <td>AM5</td>\n",
       "      <td>AIO</td>\n",
       "      <td>AM5</td>\n",
       "      <td>https://jawa.gg/product/26998/nezukoororgaming...</td>\n",
       "    </tr>\n",
       "    <tr>\n",
       "      <th>1</th>\n",
       "      <td>Ryzen 7 5700X | RTX 3070 | 32GB Ram | 1TB M.2 ...</td>\n",
       "      <td>This PC looks awesome and runs absolutely flaw...</td>\n",
       "      <td>2024-01-03T03:03:42.375Z</td>\n",
       "      <td>1100.0</td>\n",
       "      <td>1100.0</td>\n",
       "      <td>AMD</td>\n",
       "      <td>Ryzen 7</td>\n",
       "      <td>Ryzen 7 5700X</td>\n",
       "      <td>AM4</td>\n",
       "      <td>8 cores</td>\n",
       "      <td>...</td>\n",
       "      <td>1TB</td>\n",
       "      <td>NVME SSD</td>\n",
       "      <td>Other</td>\n",
       "      <td>Other</td>\n",
       "      <td>650W</td>\n",
       "      <td>AMD</td>\n",
       "      <td>AM4</td>\n",
       "      <td>AIO</td>\n",
       "      <td>AM4</td>\n",
       "      <td>https://jawa.gg/product/26972/ryzen-7-5700x-or...</td>\n",
       "    </tr>\n",
       "  </tbody>\n",
       "</table>\n",
       "<p>2 rows × 27 columns</p>\n",
       "</div>"
      ],
      "text/plain": [
       "                                                Name  \\\n",
       "0  🎋🌸⚔️👺☁️Nezuko||Gaming PC-AMD RX 7800 XT 16GB❄️...   \n",
       "1  Ryzen 7 5700X | RTX 3070 | 32GB Ram | 1TB M.2 ...   \n",
       "\n",
       "                                         Description  \\\n",
       "0  Brand New Custom Built High Performance Gaming...   \n",
       "1  This PC looks awesome and runs absolutely flaw...   \n",
       "\n",
       "                 Created at  Original Price  Final Price CPU Brand CPU Series  \\\n",
       "0  2024-01-04T01:15:15.763Z          1899.0       1899.0       AMD    Ryzen 5   \n",
       "1  2024-01-03T03:03:42.375Z          1100.0       1100.0       AMD    Ryzen 7   \n",
       "\n",
       "       CPU Model CPU Socket CPU Core count  ... Internal Storage Capacity  \\\n",
       "0   Ryzen 5 7600        AM5        6 cores  ...                       1TB   \n",
       "1  Ryzen 7 5700X        AM4        8 cores  ...                       1TB   \n",
       "\n",
       "  Internal Storage Interface Case Brand Case Color Power Supply Wattage  \\\n",
       "0                   NVME SSD    Lian Li      White                 750W   \n",
       "1                   NVME SSD      Other      Other                 650W   \n",
       "\n",
       "  Motherboard Brand Motherboard Socket CPU Cooler Type CPU Cooler Socket  \\\n",
       "0               AMD                AM5             AIO               AM5   \n",
       "1               AMD                AM4             AIO               AM4   \n",
       "\n",
       "                                                Link  \n",
       "0  https://jawa.gg/product/26998/nezukoororgaming...  \n",
       "1  https://jawa.gg/product/26972/ryzen-7-5700x-or...  \n",
       "\n",
       "[2 rows x 27 columns]"
      ]
     },
     "execution_count": 75,
     "metadata": {},
     "output_type": "execute_result"
    }
   ],
   "source": [
    "df = pd.read_sql_query('SELECT * FROM details WHERE \"Created at\" > DATETIME(\"now\",\"-30 day\")',con=con)\n",
    "df.head(2)"
   ]
  },
  {
   "cell_type": "markdown",
   "metadata": {},
   "source": [
    "Convert \"Created at\" column to datetime."
   ]
  },
  {
   "cell_type": "code",
   "execution_count": 76,
   "metadata": {},
   "outputs": [],
   "source": [
    "df['Created at'] = pd.to_datetime(df['Created at'])"
   ]
  },
  {
   "cell_type": "markdown",
   "metadata": {},
   "source": [
    "Extract only most recent 90 days."
   ]
  },
  {
   "cell_type": "code",
   "execution_count": 77,
   "metadata": {},
   "outputs": [],
   "source": [
    "df = df[df['Created at'] > (df['Created at'] - pd.Timedelta(days=90))]"
   ]
  },
  {
   "cell_type": "code",
   "execution_count": 78,
   "metadata": {},
   "outputs": [
    {
     "data": {
      "text/plain": [
       "Name                                       object\n",
       "Description                                object\n",
       "Created at                    datetime64[ns, UTC]\n",
       "Original Price                            float64\n",
       "Final Price                               float64\n",
       "CPU Brand                                  object\n",
       "CPU Series                                 object\n",
       "CPU Model                                  object\n",
       "CPU Socket                                 object\n",
       "CPU Core count                             object\n",
       "GPU Chipset                                object\n",
       "GPU Brand                                  object\n",
       "GPU Series                                 object\n",
       "GPU Memory                                 object\n",
       "Memory Capacity                            object\n",
       "Memory Type                                object\n",
       "Memory Form Factor                         object\n",
       "Internal Storage Capacity                  object\n",
       "Internal Storage Interface                 object\n",
       "Case Brand                                 object\n",
       "Case Color                                 object\n",
       "Power Supply Wattage                       object\n",
       "Motherboard Brand                          object\n",
       "Motherboard Socket                         object\n",
       "CPU Cooler Type                            object\n",
       "CPU Cooler Socket                          object\n",
       "Link                                       object\n",
       "dtype: object"
      ]
     },
     "execution_count": 78,
     "metadata": {},
     "output_type": "execute_result"
    }
   ],
   "source": [
    "df.dtypes"
   ]
  },
  {
   "cell_type": "markdown",
   "metadata": {},
   "source": [
    "\n",
    "How many PC's have been sold in the last 3 months?"
   ]
  },
  {
   "cell_type": "code",
   "execution_count": 79,
   "metadata": {},
   "outputs": [
    {
     "data": {
      "text/plain": [
       "146"
      ]
     },
     "execution_count": 79,
     "metadata": {},
     "output_type": "execute_result"
    }
   ],
   "source": [
    "df['Name'].count()"
   ]
  },
  {
   "cell_type": "markdown",
   "metadata": {},
   "source": [
    "What is the Average Price of a PC sold in the last 3 months?\n"
   ]
  },
  {
   "cell_type": "code",
   "execution_count": 80,
   "metadata": {},
   "outputs": [
    {
     "data": {
      "text/plain": [
       "774.8665753424657"
      ]
     },
     "execution_count": 80,
     "metadata": {},
     "output_type": "execute_result"
    }
   ],
   "source": [
    "df['Final Price'].mean()"
   ]
  },
  {
   "cell_type": "markdown",
   "metadata": {},
   "source": [
    "Is there a price difference betwen ryzen and intel cpu's?"
   ]
  },
  {
   "cell_type": "code",
   "execution_count": 81,
   "metadata": {},
   "outputs": [
    {
     "data": {
      "text/plain": [
       "CPU Brand\n",
       "AMD      899.329710\n",
       "Intel    667.956933\n",
       "Other    490.000000\n",
       "Name: Final Price, dtype: float64"
      ]
     },
     "execution_count": 81,
     "metadata": {},
     "output_type": "execute_result"
    }
   ],
   "source": [
    "df.groupby(['CPU Brand'])['Final Price'].mean()"
   ]
  },
  {
   "cell_type": "code",
   "execution_count": 82,
   "metadata": {},
   "outputs": [
    {
     "data": {
      "text/plain": [
       "array(['Radeon RX 6700', 'Radeon RX 6700 XT', 'Radeon RX 6600 XT',\n",
       "       'GeForce RTX 3070'], dtype=object)"
      ]
     },
     "execution_count": 82,
     "metadata": {},
     "output_type": "execute_result"
    }
   ],
   "source": [
    "df[df['CPU Model'] == 'Ryzen 5 5600']['GPU Series'].unique()"
   ]
  },
  {
   "cell_type": "code",
   "execution_count": 83,
   "metadata": {},
   "outputs": [
    {
     "data": {
      "text/html": [
       "<div>\n",
       "<style scoped>\n",
       "    .dataframe tbody tr th:only-of-type {\n",
       "        vertical-align: middle;\n",
       "    }\n",
       "\n",
       "    .dataframe tbody tr th {\n",
       "        vertical-align: top;\n",
       "    }\n",
       "\n",
       "    .dataframe thead th {\n",
       "        text-align: right;\n",
       "    }\n",
       "</style>\n",
       "<table border=\"1\" class=\"dataframe\">\n",
       "  <thead>\n",
       "    <tr style=\"text-align: right;\">\n",
       "      <th></th>\n",
       "      <th>Name</th>\n",
       "      <th>Final Price</th>\n",
       "      <th>CPU Model</th>\n",
       "      <th>GPU Series</th>\n",
       "      <th>Memory Capacity</th>\n",
       "      <th>Internal Storage Capacity</th>\n",
       "      <th>Power Supply Wattage</th>\n",
       "      <th>CPU Cooler Type</th>\n",
       "    </tr>\n",
       "  </thead>\n",
       "  <tbody>\n",
       "    <tr>\n",
       "      <th>15</th>\n",
       "      <td>💜🖤RX 6700 | Ryzen 5 5600 | 16GB 3200MHz | 1TB ...</td>\n",
       "      <td>892.00</td>\n",
       "      <td>Ryzen 5 5600</td>\n",
       "      <td>Radeon RX 6700</td>\n",
       "      <td>16GB</td>\n",
       "      <td>1TB</td>\n",
       "      <td>700W</td>\n",
       "      <td>AIO</td>\n",
       "    </tr>\n",
       "    <tr>\n",
       "      <th>21</th>\n",
       "      <td>EXCELLENT 1440p Gaming PC | RX 6700XT 12GB, Ry...</td>\n",
       "      <td>1049.00</td>\n",
       "      <td>Ryzen 5 5600</td>\n",
       "      <td>Radeon RX 6700 XT</td>\n",
       "      <td>32GB</td>\n",
       "      <td>1TB</td>\n",
       "      <td>600W</td>\n",
       "      <td>Air</td>\n",
       "    </tr>\n",
       "    <tr>\n",
       "      <th>22</th>\n",
       "      <td>EXCELLENT 1440p Gaming PC | RX 6700XT 12GB, Ry...</td>\n",
       "      <td>1049.00</td>\n",
       "      <td>Ryzen 5 5600</td>\n",
       "      <td>Radeon RX 6700 XT</td>\n",
       "      <td>12GB</td>\n",
       "      <td>1TB</td>\n",
       "      <td>600W</td>\n",
       "      <td>Air</td>\n",
       "    </tr>\n",
       "    <tr>\n",
       "      <th>39</th>\n",
       "      <td>5600 x 6700XT \"Digital Dash\" 32GB RAM / WiFi</td>\n",
       "      <td>850.00</td>\n",
       "      <td>Ryzen 5 5600</td>\n",
       "      <td>Radeon RX 6700 XT</td>\n",
       "      <td>32GB</td>\n",
       "      <td>1TB</td>\n",
       "      <td>800W</td>\n",
       "      <td>Air</td>\n",
       "    </tr>\n",
       "    <tr>\n",
       "      <th>92</th>\n",
       "      <td>🖤💜🤍 Gaming PC | RX 6600XT ⚫ Ryzen 5 3600 🟣 16G...</td>\n",
       "      <td>689.99</td>\n",
       "      <td>Ryzen 5 5600</td>\n",
       "      <td>Radeon RX 6600 XT</td>\n",
       "      <td>16GB</td>\n",
       "      <td>1TB</td>\n",
       "      <td>600W</td>\n",
       "      <td>Air</td>\n",
       "    </tr>\n",
       "    <tr>\n",
       "      <th>109</th>\n",
       "      <td>AMD 5600 x Nvidia RTX 3070</td>\n",
       "      <td>850.00</td>\n",
       "      <td>Ryzen 5 5600</td>\n",
       "      <td>GeForce RTX 3070</td>\n",
       "      <td>32GB</td>\n",
       "      <td>1.5TB</td>\n",
       "      <td>750W</td>\n",
       "      <td>Air</td>\n",
       "    </tr>\n",
       "    <tr>\n",
       "      <th>126</th>\n",
       "      <td>💜 🖤💜 RX 6700 XT ⚫ Ryzen 5 5600 🟣 32GB RAM ⚫ 1T...</td>\n",
       "      <td>949.99</td>\n",
       "      <td>Ryzen 5 5600</td>\n",
       "      <td>Radeon RX 6700 XT</td>\n",
       "      <td>32GB</td>\n",
       "      <td>1TB</td>\n",
       "      <td>600W</td>\n",
       "      <td>Air</td>\n",
       "    </tr>\n",
       "  </tbody>\n",
       "</table>\n",
       "</div>"
      ],
      "text/plain": [
       "                                                  Name  Final Price  \\\n",
       "15   💜🖤RX 6700 | Ryzen 5 5600 | 16GB 3200MHz | 1TB ...       892.00   \n",
       "21   EXCELLENT 1440p Gaming PC | RX 6700XT 12GB, Ry...      1049.00   \n",
       "22   EXCELLENT 1440p Gaming PC | RX 6700XT 12GB, Ry...      1049.00   \n",
       "39        5600 x 6700XT \"Digital Dash\" 32GB RAM / WiFi       850.00   \n",
       "92   🖤💜🤍 Gaming PC | RX 6600XT ⚫ Ryzen 5 3600 🟣 16G...       689.99   \n",
       "109                         AMD 5600 x Nvidia RTX 3070       850.00   \n",
       "126  💜 🖤💜 RX 6700 XT ⚫ Ryzen 5 5600 🟣 32GB RAM ⚫ 1T...       949.99   \n",
       "\n",
       "        CPU Model         GPU Series Memory Capacity  \\\n",
       "15   Ryzen 5 5600     Radeon RX 6700            16GB   \n",
       "21   Ryzen 5 5600  Radeon RX 6700 XT            32GB   \n",
       "22   Ryzen 5 5600  Radeon RX 6700 XT            12GB   \n",
       "39   Ryzen 5 5600  Radeon RX 6700 XT            32GB   \n",
       "92   Ryzen 5 5600  Radeon RX 6600 XT            16GB   \n",
       "109  Ryzen 5 5600   GeForce RTX 3070            32GB   \n",
       "126  Ryzen 5 5600  Radeon RX 6700 XT            32GB   \n",
       "\n",
       "    Internal Storage Capacity Power Supply Wattage CPU Cooler Type  \n",
       "15                        1TB                 700W             AIO  \n",
       "21                        1TB                 600W             Air  \n",
       "22                        1TB                 600W             Air  \n",
       "39                        1TB                 800W             Air  \n",
       "92                        1TB                 600W             Air  \n",
       "109                     1.5TB                 750W             Air  \n",
       "126                       1TB                 600W             Air  "
      ]
     },
     "execution_count": 83,
     "metadata": {},
     "output_type": "execute_result"
    }
   ],
   "source": [
    "df[df['CPU Model'] == 'Ryzen 5 5600'][['Name','Final Price','CPU Model',\n",
    "                                      'GPU Series','Memory Capacity', 'Internal Storage Capacity',\n",
    "                                      'Power Supply Wattage','CPU Cooler Type']]"
   ]
  },
  {
   "cell_type": "markdown",
   "metadata": {},
   "source": [
    "Whats the average price?"
   ]
  },
  {
   "cell_type": "code",
   "execution_count": 84,
   "metadata": {},
   "outputs": [
    {
     "data": {
      "text/plain": [
       "count       7.000000\n",
       "mean      904.282857\n",
       "std       126.452099\n",
       "min       689.990000\n",
       "25%       850.000000\n",
       "50%       892.000000\n",
       "75%       999.495000\n",
       "max      1049.000000\n",
       "Name: Final Price, dtype: float64"
      ]
     },
     "execution_count": 84,
     "metadata": {},
     "output_type": "execute_result"
    }
   ],
   "source": [
    "df[df['CPU Model'] == 'Ryzen 5 5600']['Final Price'].describe()"
   ]
  },
  {
   "cell_type": "markdown",
   "metadata": {},
   "source": [
    "It might be interesting to add in the benchmark data and attempt an optimization. "
   ]
  },
  {
   "cell_type": "code",
   "execution_count": null,
   "metadata": {},
   "outputs": [],
   "source": []
  }
 ],
 "metadata": {
  "kernelspec": {
   "display_name": "Python 3",
   "language": "python",
   "name": "python3"
  },
  "language_info": {
   "codemirror_mode": {
    "name": "ipython",
    "version": 3
   },
   "file_extension": ".py",
   "mimetype": "text/x-python",
   "name": "python",
   "nbconvert_exporter": "python",
   "pygments_lexer": "ipython3",
   "version": "3.10.11"
  }
 },
 "nbformat": 4,
 "nbformat_minor": 2
}
