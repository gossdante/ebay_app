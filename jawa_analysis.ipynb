{
 "cells": [
  {
   "cell_type": "markdown",
   "metadata": {},
   "source": [
    "## Data Analysis\n"
   ]
  },
  {
   "cell_type": "code",
   "execution_count": 50,
   "metadata": {},
   "outputs": [],
   "source": [
    "import pandas as pd\n",
    "import numpy as np\n",
    "import sqlite3"
   ]
  },
  {
   "cell_type": "markdown",
   "metadata": {},
   "source": [
    "Load SQL Database"
   ]
  },
  {
   "cell_type": "code",
   "execution_count": 51,
   "metadata": {},
   "outputs": [],
   "source": [
    "con = sqlite3.connect(\"jawa.db\")\n",
    "cur = con.cursor()"
   ]
  },
  {
   "cell_type": "markdown",
   "metadata": {},
   "source": [
    "Read in data from sqlite database."
   ]
  },
  {
   "cell_type": "code",
   "execution_count": 52,
   "metadata": {},
   "outputs": [
    {
     "data": {
      "text/html": [
       "<div>\n",
       "<style scoped>\n",
       "    .dataframe tbody tr th:only-of-type {\n",
       "        vertical-align: middle;\n",
       "    }\n",
       "\n",
       "    .dataframe tbody tr th {\n",
       "        vertical-align: top;\n",
       "    }\n",
       "\n",
       "    .dataframe thead th {\n",
       "        text-align: right;\n",
       "    }\n",
       "</style>\n",
       "<table border=\"1\" class=\"dataframe\">\n",
       "  <thead>\n",
       "    <tr style=\"text-align: right;\">\n",
       "      <th></th>\n",
       "      <th>Name</th>\n",
       "      <th>Description</th>\n",
       "      <th>Created at</th>\n",
       "      <th>Original Price</th>\n",
       "      <th>Final Price</th>\n",
       "      <th>CPU Brand</th>\n",
       "      <th>CPU Series</th>\n",
       "      <th>CPU Model</th>\n",
       "      <th>CPU Socket</th>\n",
       "      <th>CPU Core count</th>\n",
       "      <th>...</th>\n",
       "      <th>Internal Storage Capacity</th>\n",
       "      <th>Internal Storage Interface</th>\n",
       "      <th>Case Brand</th>\n",
       "      <th>Case Color</th>\n",
       "      <th>Power Supply Wattage</th>\n",
       "      <th>Motherboard Brand</th>\n",
       "      <th>Motherboard Socket</th>\n",
       "      <th>CPU Cooler Type</th>\n",
       "      <th>CPU Cooler Socket</th>\n",
       "      <th>Link</th>\n",
       "    </tr>\n",
       "  </thead>\n",
       "  <tbody>\n",
       "    <tr>\n",
       "      <th>0</th>\n",
       "      <td>🎋🌸⚔️👺☁️Nezuko||Gaming PC-AMD RX 7800 XT 16GB❄️...</td>\n",
       "      <td>Brand New Custom Built High Performance Gaming...</td>\n",
       "      <td>2024-01-04T01:15:15.763Z</td>\n",
       "      <td>1899.0</td>\n",
       "      <td>1899.0</td>\n",
       "      <td>AMD</td>\n",
       "      <td>Ryzen 5</td>\n",
       "      <td>Ryzen 5 7600</td>\n",
       "      <td>AM5</td>\n",
       "      <td>6 cores</td>\n",
       "      <td>...</td>\n",
       "      <td>1TB</td>\n",
       "      <td>NVME SSD</td>\n",
       "      <td>Lian Li</td>\n",
       "      <td>White</td>\n",
       "      <td>750W</td>\n",
       "      <td>AMD</td>\n",
       "      <td>AM5</td>\n",
       "      <td>AIO</td>\n",
       "      <td>AM5</td>\n",
       "      <td>https://jawa.gg/product/26998/nezukoororgaming...</td>\n",
       "    </tr>\n",
       "    <tr>\n",
       "      <th>1</th>\n",
       "      <td>Ryzen 7 5700X | RTX 3070 | 32GB Ram | 1TB M.2 ...</td>\n",
       "      <td>This PC looks awesome and runs absolutely flaw...</td>\n",
       "      <td>2024-01-03T03:03:42.375Z</td>\n",
       "      <td>1100.0</td>\n",
       "      <td>1100.0</td>\n",
       "      <td>AMD</td>\n",
       "      <td>Ryzen 7</td>\n",
       "      <td>Ryzen 7 5700X</td>\n",
       "      <td>AM4</td>\n",
       "      <td>8 cores</td>\n",
       "      <td>...</td>\n",
       "      <td>1TB</td>\n",
       "      <td>NVME SSD</td>\n",
       "      <td>Other</td>\n",
       "      <td>Other</td>\n",
       "      <td>650W</td>\n",
       "      <td>AMD</td>\n",
       "      <td>AM4</td>\n",
       "      <td>AIO</td>\n",
       "      <td>AM4</td>\n",
       "      <td>https://jawa.gg/product/26972/ryzen-7-5700x-or...</td>\n",
       "    </tr>\n",
       "  </tbody>\n",
       "</table>\n",
       "<p>2 rows × 27 columns</p>\n",
       "</div>"
      ],
      "text/plain": [
       "                                                Name  \\\n",
       "0  🎋🌸⚔️👺☁️Nezuko||Gaming PC-AMD RX 7800 XT 16GB❄️...   \n",
       "1  Ryzen 7 5700X | RTX 3070 | 32GB Ram | 1TB M.2 ...   \n",
       "\n",
       "                                         Description  \\\n",
       "0  Brand New Custom Built High Performance Gaming...   \n",
       "1  This PC looks awesome and runs absolutely flaw...   \n",
       "\n",
       "                 Created at  Original Price  Final Price CPU Brand CPU Series  \\\n",
       "0  2024-01-04T01:15:15.763Z          1899.0       1899.0       AMD    Ryzen 5   \n",
       "1  2024-01-03T03:03:42.375Z          1100.0       1100.0       AMD    Ryzen 7   \n",
       "\n",
       "       CPU Model CPU Socket CPU Core count  ... Internal Storage Capacity  \\\n",
       "0   Ryzen 5 7600        AM5        6 cores  ...                       1TB   \n",
       "1  Ryzen 7 5700X        AM4        8 cores  ...                       1TB   \n",
       "\n",
       "  Internal Storage Interface Case Brand Case Color Power Supply Wattage  \\\n",
       "0                   NVME SSD    Lian Li      White                 750W   \n",
       "1                   NVME SSD      Other      Other                 650W   \n",
       "\n",
       "  Motherboard Brand Motherboard Socket CPU Cooler Type CPU Cooler Socket  \\\n",
       "0               AMD                AM5             AIO               AM5   \n",
       "1               AMD                AM4             AIO               AM4   \n",
       "\n",
       "                                                Link  \n",
       "0  https://jawa.gg/product/26998/nezukoororgaming...  \n",
       "1  https://jawa.gg/product/26972/ryzen-7-5700x-or...  \n",
       "\n",
       "[2 rows x 27 columns]"
      ]
     },
     "execution_count": 52,
     "metadata": {},
     "output_type": "execute_result"
    }
   ],
   "source": [
    "df = pd.read_sql_query('SELECT * FROM details WHERE \"Created at\" > DATETIME(\"now\",\"-30 day\")',con=con)\n",
    "df.head(2)"
   ]
  },
  {
   "cell_type": "markdown",
   "metadata": {},
   "source": [
    "Convert \"Created at\" column to datetime."
   ]
  },
  {
   "cell_type": "code",
   "execution_count": 53,
   "metadata": {},
   "outputs": [],
   "source": [
    "df['Created at'] = pd.to_datetime(df['Created at'])"
   ]
  },
  {
   "cell_type": "markdown",
   "metadata": {},
   "source": [
    "Extract only most recent 90 days."
   ]
  },
  {
   "cell_type": "code",
   "execution_count": 54,
   "metadata": {},
   "outputs": [],
   "source": [
    "df = df[df['Created at'] > (df['Created at'] - pd.Timedelta(days=90))]"
   ]
  },
  {
   "cell_type": "markdown",
   "metadata": {},
   "source": [
    "\n",
    "How many PC's have been sold in the last 3 months?"
   ]
  },
  {
   "cell_type": "markdown",
   "metadata": {},
   "source": [
    "What is the Average Price of a PC sold in the last 3 months?\n"
   ]
  },
  {
   "cell_type": "markdown",
   "metadata": {},
   "source": [
    "Is there a price difference betwen ryzen and intel cpu's?"
   ]
  },
  {
   "cell_type": "code",
   "execution_count": null,
   "metadata": {},
   "outputs": [],
   "source": []
  }
 ],
 "metadata": {
  "kernelspec": {
   "display_name": "Python 3",
   "language": "python",
   "name": "python3"
  },
  "language_info": {
   "codemirror_mode": {
    "name": "ipython",
    "version": 3
   },
   "file_extension": ".py",
   "mimetype": "text/x-python",
   "name": "python",
   "nbconvert_exporter": "python",
   "pygments_lexer": "ipython3",
   "version": "3.10.11"
  }
 },
 "nbformat": 4,
 "nbformat_minor": 2
}
